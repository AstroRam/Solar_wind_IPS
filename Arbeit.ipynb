{
 "cells": [
  {
   "cell_type": "code",
   "execution_count": 44,
   "metadata": {},
   "outputs": [],
   "source": [
    "import sys\n",
    "import fileinput"
   ]
  },
  {
   "cell_type": "code",
   "execution_count": 45,
   "metadata": {},
   "outputs": [],
   "source": [
    "import numpy as np\n",
    "import pandas as pd\n",
    "data = pd.read_csv('vlist1983-2017-new-03.dat', sep ='\\s+', header=None)"
   ]
  },
  {
   "cell_type": "code",
   "execution_count": 46,
   "metadata": {},
   "outputs": [],
   "source": [
    "year=data[0]\n",
    "sou=data[1]\n",
    "UT=data[2]\n",
    "DIS=data[3]\n",
    "HLA=data[4]\n",
    "HLO=data[5]\n",
    "GLA=data[6]\n",
    "GLO=data[7]\n",
    "CARR=data[8]\n",
    "V=data[9]\n",
    "ERR=data[10]\n",
    "SCINDEX=data[11]\n"
   ]
  },
  {
   "cell_type": "code",
   "execution_count": 47,
   "metadata": {},
   "outputs": [
    {
     "data": {
      "text/plain": [
       "0        1290.00\n",
       "1        2310.00\n",
       "2        1280.00\n",
       "3        2370.00\n",
       "4        1550.00\n",
       "          ...   \n",
       "90433      67.70\n",
       "90434      80.60\n",
       "90435     101.00\n",
       "90436       1.91\n",
       "90437      18.10\n",
       "Name: 11, Length: 90438, dtype: float64"
      ]
     },
     "execution_count": 47,
     "metadata": {},
     "output_type": "execute_result"
    }
   ],
   "source": [
    "SCINDEX"
   ]
  },
  {
   "cell_type": "code",
   "execution_count": 48,
   "metadata": {},
   "outputs": [],
   "source": [
    "dtr=np.pi/180.0\n",
    "rtd=180.0/np.pi"
   ]
  },
  {
   "cell_type": "code",
   "execution_count": 49,
   "metadata": {},
   "outputs": [],
   "source": [
    "eps1=np.arcsin(0.26)*rtd\n",
    "eps2=np.arcsin(0.82)*rtd"
   ]
  },
  {
   "cell_type": "code",
   "execution_count": 50,
   "metadata": {},
   "outputs": [],
   "source": [
    "eps3=np.sin(eps1*dtr)\n",
    "eps4=np.sin(eps2*dtr)"
   ]
  },
  {
   "cell_type": "code",
   "execution_count": 51,
   "metadata": {},
   "outputs": [],
   "source": [
    "nyear = np.zeros(90438)\n",
    "nsou = []\n",
    "nUT = np.zeros(90438)\n",
    "nDIS = np.zeros(90438)\n",
    "nHLA = np.zeros(90438)\n",
    "nHLO = np.zeros(90438)\n",
    "nGLA = np.zeros(90438)\n",
    "nGLO = np.zeros(90438)\n",
    "nCARR = np.zeros(90438)\n",
    "nV=np.zeros(90438)\n",
    "nERR = np.zeros(90438)\n",
    "nSCINDEX = np.zeros(90438)"
   ]
  },
  {
   "cell_type": "code",
   "execution_count": 52,
   "metadata": {},
   "outputs": [],
   "source": [
    "n=0\n",
    "for i in range(0,90438):\n",
    "    if (SCINDEX[i]!=0.0 and DIS[i] >= eps3 and DIS[i] < eps4):\n",
    "        nsou.append(sou[i])\n",
    "        nyear[n] = year[i]\n",
    "        nUT[n]= UT[i]\n",
    "        nDIS[n] = DIS[i]\n",
    "        nHLA[n] = HLA[i]\n",
    "        nHLO[n] = HLO[i]\n",
    "        nGLA[n] = GLA[i]\n",
    "        nGLO[n] = GLO[i]\n",
    "        nCARR[n] = CARR[i]\n",
    "        nV[n] = V[i]\n",
    "        nERR[n] = ERR[i]\n",
    "        nSCINDEX[n] = SCINDEX[i]\n",
    "        n=n+1\n",
    "        continue\n",
    "                      "
   ]
  },
  {
   "cell_type": "code",
   "execution_count": 53,
   "metadata": {},
   "outputs": [],
   "source": [
    "zip(nyear,nsou,nUT,nDIS,nHLA,nHLO,nGLA,nGLO,nCARR,nV,nERR,nSCINDEX)\n",
    "import csv\n",
    "with open('observatoions_in_range_15_to_55_deg.txt', 'w') as f:\n",
    "    \n",
    "    writer = csv.writer(f, delimiter='\\t')\n",
    "    writer.writerows(zip(nyear,nsou,nUT,nDIS,nHLA,nHLO,nGLA,nGLO,nCARR,nV,nERR,nSCINDEX)) \n",
    "    "
   ]
  },
  {
   "cell_type": "code",
   "execution_count": 54,
   "metadata": {},
   "outputs": [],
   "source": [
    "yr = np.zeros(63169)\n",
    "mon= np.zeros(63169)\n",
    "day= np.zeros(63169)\n",
    "fdd= np.zeros(63169)"
   ]
  },
  {
   "cell_type": "code",
   "execution_count": 55,
   "metadata": {},
   "outputs": [],
   "source": [
    "for i in range(0,n):\n",
    "    yr[i]=str(nyear[i])[:2]\n",
    "    mon[i]=str(nyear[i])[2:4]\n",
    "    day[i]=str(nyear[i])[4:6]\n",
    "    fdd[i]=float(day[i])+(nUT[i]/24)"
   ]
  },
  {
   "cell_type": "code",
   "execution_count": 56,
   "metadata": {},
   "outputs": [],
   "source": [
    "#Normalized Sc.index by that of 1148-001 at the same distance\n",
    "for i in range(0,n):\n",
    "    if nDIS[i]== 0.26: nSCINDEX[i]=nSCINDEX[i]/6.008e+02\n",
    "    if nDIS[i]== 0.27: nSCINDEX[i]=nSCINDEX[i]/6.070e+02\n",
    "    if nDIS[i]== 0.28: nSCINDEX[i]=nSCINDEX[i]/5.121e+02\n",
    "    if nDIS[i]== 0.29: nSCINDEX[i]=nSCINDEX[i]/5.564e+02\n",
    "    if nDIS[i]== 0.30: nSCINDEX[i]=nSCINDEX[i]/7.032e+02\n",
    "    if nDIS[i]== 0.31: nSCINDEX[i]=nSCINDEX[i]/5.465e+02\n",
    "    if nDIS[i]== 0.32: nSCINDEX[i]=nSCINDEX[i]/4.143e+02\n",
    "    if nDIS[i]== 0.33: nSCINDEX[i]=nSCINDEX[i]/4.071e+02\n",
    "    if nDIS[i]== 0.34: nSCINDEX[i]=nSCINDEX[i]/4.212e+02\n",
    "    if nDIS[i]== 0.35: nSCINDEX[i]=nSCINDEX[i]/4.435e+02\n",
    "    if nDIS[i]== 0.36: nSCINDEX[i]=nSCINDEX[i]/3.266e+02\n",
    "    if nDIS[i]== 0.37: nSCINDEX[i]=nSCINDEX[i]/3.572e+02\n",
    "    if nDIS[i]== 0.38: nSCINDEX[i]=nSCINDEX[i]/3.531e+02\n",
    "    if nDIS[i]== 0.39: nSCINDEX[i]=nSCINDEX[i]/2.544e+02\n",
    "    if nDIS[i]== 0.40: nSCINDEX[i]=nSCINDEX[i]/2.900e+02\n",
    "    if nDIS[i]== 0.41: nSCINDEX[i]=nSCINDEX[i]/3.223e+02\n",
    "    if nDIS[i]== 0.42: nSCINDEX[i]=nSCINDEX[i]/2.624e+02\n",
    "    if nDIS[i]== 0.43: nSCINDEX[i]=nSCINDEX[i]/2.816e+02\n",
    "    if nDIS[i]== 0.44: nSCINDEX[i]=nSCINDEX[i]/2.866e+02\n",
    "    if nDIS[i]== 0.45: nSCINDEX[i]=nSCINDEX[i]/2.572e+02\n",
    "    if nDIS[i]== 0.46: nSCINDEX[i]=nSCINDEX[i]/2.633e+02\n",
    "    if nDIS[i]== 0.47: nSCINDEX[i]=nSCINDEX[i]/2.059e+02\n",
    "    if nDIS[i]== 0.48: nSCINDEX[i]=nSCINDEX[i]/1.523e+02\n",
    "    if nDIS[i]== 0.49: nSCINDEX[i]=nSCINDEX[i]/2.785e+02\n",
    "    if nDIS[i]== 0.50: nSCINDEX[i]=nSCINDEX[i]/2.276e+02\n",
    "    if nDIS[i]== 0.51: nSCINDEX[i]=nSCINDEX[i]/1.337e+02\n",
    "    if nDIS[i]== 0.53: nSCINDEX[i]=nSCINDEX[i]/2.028e+02\n",
    "    if nDIS[i]== 0.54: nSCINDEX[i]=nSCINDEX[i]/2.024e+02\n",
    "    if nDIS[i]== 0.55: nSCINDEX[i]=nSCINDEX[i]/1.212e+02\n",
    "    if nDIS[i]== 0.56: nSCINDEX[i]=nSCINDEX[i]/1.310e+02\n",
    "    if nDIS[i]== 0.57: nSCINDEX[i]=nSCINDEX[i]/1.010e+02\n",
    "    if nDIS[i]== 0.58: nSCINDEX[i]=nSCINDEX[i]/2.053e+02\n",
    "    if nDIS[i]== 0.60: nSCINDEX[i]=nSCINDEX[i]/1.421e+02\n",
    "    if nDIS[i]== 0.61: nSCINDEX[i]=nSCINDEX[i]/2.077e+02\n",
    "    if nDIS[i]== 0.62: nSCINDEX[i]=nSCINDEX[i]/7.933e+01\n",
    "    if nDIS[i]== 0.63: nSCINDEX[i]=nSCINDEX[i]/9.243e+01\n",
    "    if nDIS[i]== 0.64: nSCINDEX[i]=nSCINDEX[i]/7.303e+01\n",
    "    if nDIS[i]== 0.65: nSCINDEX[i]=nSCINDEX[i]/7.831e+01\n",
    "    if nDIS[i]== 0.66: nSCINDEX[i]=nSCINDEX[i]/8.421e+01\n",
    "    if nDIS[i]== 0.67: nSCINDEX[i]=nSCINDEX[i]/8.523e+01\n",
    "    if nDIS[i]== 0.68: nSCINDEX[i]=nSCINDEX[i]/1.148e+02\n",
    "    if nDIS[i]== 0.69: nSCINDEX[i]=nSCINDEX[i]/4.120e+01\n",
    "    if nDIS[i]== 0.70: nSCINDEX[i]=nSCINDEX[i]/1.263e+02\n",
    "    if nDIS[i]== 0.71: nSCINDEX[i]=nSCINDEX[i]/8.877e+01\n",
    "    if nDIS[i]== 0.72: nSCINDEX[i]=nSCINDEX[i]/1.188e+02\n",
    "    if nDIS[i]== 0.73: nSCINDEX[i]=nSCINDEX[i]/7.520e+01\n",
    "    if nDIS[i]== 0.74: nSCINDEX[i]=nSCINDEX[i]/9.348e+01\n",
    "    if nDIS[i]== 0.75: nSCINDEX[i]=nSCINDEX[i]/4.318e+01\n",
    "    if nDIS[i]== 0.76: nSCINDEX[i]=nSCINDEX[i]/4.215e+01\n",
    "    if nDIS[i]== 0.77: nSCINDEX[i]=nSCINDEX[i]/6.665e+01\n",
    "    if nDIS[i]== 0.78: nSCINDEX[i]=nSCINDEX[i]/3.910e+01\n",
    "    if nDIS[i]== 0.79: nSCINDEX[i]=nSCINDEX[i]/9.810e+01\n",
    "    if nDIS[i]== 0.80: nSCINDEX[i]=nSCINDEX[i]/5.207e+01\n",
    "    if nDIS[i]== 0.81: nSCINDEX[i]=nSCINDEX[i]/5.205e+01\n",
    "    if nDIS[i]== 0.82: nSCINDEX[i]=nSCINDEX[i]/4.300e+01\n",
    "    \n",
    "        "
   ]
  },
  {
   "cell_type": "code",
   "execution_count": 57,
   "metadata": {},
   "outputs": [],
   "source": [
    "fry= np.zeros(63169)\n",
    "for i in range(0,n):\n",
    "    if (yr[i]>80):yr[i]=yr[i]+1900\n",
    "    else:\n",
    "        yr[i]=yr[i]+2000\n",
    "        \n",
    "    \n"
   ]
  },
  {
   "cell_type": "code",
   "execution_count": 58,
   "metadata": {},
   "outputs": [
    {
     "data": {
      "text/plain": [
       "array([1983., 1983., 1983., ..., 2017., 2017., 2017.])"
      ]
     },
     "execution_count": 58,
     "metadata": {},
     "output_type": "execute_result"
    }
   ],
   "source": [
    "yr"
   ]
  },
  {
   "cell_type": "code",
   "execution_count": 59,
   "metadata": {},
   "outputs": [],
   "source": [
    "for k in range(0,n):\n",
    "    if ((float(yr[k])%400.0)==0 or (float(yr[k])%100!=0)and(float(yr[k])%4==0)):\n",
    "        if mon[k]== 1:fry[k]=float(yr[k])+(fdd[k]/366.0)\n",
    "        if mon[k]== 1:fry[k]=float(yr[k])+(fdd[k]/366.0)\n",
    "            \n",
    "        if mon[k]== 2:fry[k]=float(yr[k])+((fdd[k]+31)/366.0)\n",
    "        if mon[k]== 3:fry[k]=float(yr[k])+((fdd[k]+60)/366.0)\n",
    "        if mon[k]== 4:fry[k]=float(yr[k])+((fdd[k]+91)/366.0)\n",
    "        if mon[k]== 5:fry[k]=float(yr[k])+((fdd[k]+121)/366.0)\n",
    "        if mon[k]== 6:fry[k]=float(yr[k])+((fdd[k]+152)/366.0)\n",
    "        if mon[k]== 7:fry[k]=float(yr[k])+((fdd[k]+182)/366.0)\n",
    "        if mon[k]== 8:fry[k]=float(yr[k])+((fdd[k]+213)/366.0)\n",
    "        if mon[k]== 9:fry[k]=float(yr[k])+((fdd[k]+244)/366.0)\n",
    "        if mon[k]== 10:fry[k]=float(yr[k])+((fdd[k]+274)/366.0)\n",
    "        if mon[k]== 11:fry[k]=float(yr[k])+((fdd[k]+305)/366.0)\n",
    "        if mon[k]== 12:fry[k]=float(yr[k])+((fdd[k]+335)/366.0)\n",
    "    else:\n",
    "        if mon[k]== 1:fry[k]=float(yr[k])+(fdd[k]/365.0)\n",
    "        if mon[k]== 2:fry[k]=float(yr[k])+((fdd[k]+31)/365.0)\n",
    "        if mon[k]== 3:fry[k]=float(yr[k])+((fdd[k]+59)/365.0)\n",
    "        if mon[k]== 4:fry[k]=float(yr[k])+((fdd[k]+90)/365.0)\n",
    "        if mon[k]== 5:fry[k]=float(yr[k])+((fdd[k]+120)/365.0)\n",
    "        if mon[k]== 6:fry[k]=float(yr[k])+((fdd[k]+151)/365.0)\n",
    "        if mon[k]== 7:fry[k]=float(yr[k])+((fdd[k]+181)/365.0)\n",
    "        if mon[k]== 8:fry[k]=float(yr[k])+((fdd[k]+212)/365.0)\n",
    "        if mon[k]== 9:fry[k]=float(yr[k])+((fdd[k]+243)/365.0)\n",
    "        if mon[k]== 10:fry[k]=float(yr[k])+((fdd[k]+273)/365.0)\n",
    "        if mon[k]== 11:fry[k]=float(yr[k])+((fdd[k]+304)/365.0)\n",
    "        if mon[k]== 12:fry[k]=float(yr[k])+((fdd[k]+334)/365.0)"
   ]
  },
  {
   "cell_type": "code",
   "execution_count": 60,
   "metadata": {},
   "outputs": [],
   "source": [
    "for l in range(0,n):\n",
    "    fry[l]=round(fry[l], 3)"
   ]
  },
  {
   "cell_type": "code",
   "execution_count": 61,
   "metadata": {},
   "outputs": [
    {
     "data": {
      "text/plain": [
       "array([1983.231, 1983.233, 1983.236, ..., 2017.904, 2017.929, 2017.94 ])"
      ]
     },
     "execution_count": 61,
     "metadata": {},
     "output_type": "execute_result"
    }
   ],
   "source": [
    "fry"
   ]
  },
  {
   "cell_type": "code",
   "execution_count": 62,
   "metadata": {},
   "outputs": [],
   "source": [
    "zip(yr,mon,day,fdd,fry)\n",
    "import csv\n",
    "with open('dates_and_fractional_year.txt', 'w') as f:\n",
    "    \n",
    "    writer = csv.writer(f, delimiter='\\t')\n",
    "    writer.writerows(zip(yr,mon,day,fdd,fry))"
   ]
  },
  {
   "cell_type": "code",
   "execution_count": 63,
   "metadata": {},
   "outputs": [
    {
     "ename": "NameError",
     "evalue": "name 'source' is not defined",
     "output_type": "error",
     "traceback": [
      "\u001b[0;31m---------------------------------------------------------------------------\u001b[0m",
      "\u001b[0;31mNameError\u001b[0m                                 Traceback (most recent call last)",
      "\u001b[0;32m<ipython-input-63-b34431829b98>\u001b[0m in \u001b[0;36m<module>\u001b[0;34m\u001b[0m\n\u001b[1;32m     18\u001b[0m     \u001b[0mncnt\u001b[0m\u001b[0;34m=\u001b[0m\u001b[0;36m0\u001b[0m\u001b[0;34m\u001b[0m\u001b[0;34m\u001b[0m\u001b[0m\n\u001b[1;32m     19\u001b[0m     \u001b[0;32mfor\u001b[0m \u001b[0mt\u001b[0m \u001b[0;32min\u001b[0m \u001b[0mrange\u001b[0m\u001b[0;34m(\u001b[0m\u001b[0;36m0\u001b[0m\u001b[0;34m,\u001b[0m\u001b[0mn_source\u001b[0m\u001b[0;34m-\u001b[0m\u001b[0;36m1\u001b[0m\u001b[0;34m)\u001b[0m\u001b[0;34m:\u001b[0m\u001b[0;34m\u001b[0m\u001b[0;34m\u001b[0m\u001b[0m\n\u001b[0;32m---> 20\u001b[0;31m         \u001b[0;32mif\u001b[0m \u001b[0;34m(\u001b[0m\u001b[0;34m(\u001b[0m\u001b[0mnsou\u001b[0m\u001b[0;34m[\u001b[0m\u001b[0mt\u001b[0m\u001b[0;34m]\u001b[0m \u001b[0;34m==\u001b[0m \u001b[0;34m(\u001b[0m\u001b[0msource\u001b[0m\u001b[0;34m[\u001b[0m\u001b[0mi_source\u001b[0m\u001b[0;34m]\u001b[0m\u001b[0;34m)\u001b[0m\u001b[0;34m)\u001b[0m \u001b[0;32mand\u001b[0m \u001b[0;34m(\u001b[0m\u001b[0mnscindex\u001b[0m\u001b[0;34m[\u001b[0m\u001b[0mt\u001b[0m\u001b[0;34m]\u001b[0m\u001b[0;34m!=\u001b[0m\u001b[0;36m0\u001b[0m\u001b[0;34m)\u001b[0m\u001b[0;34m)\u001b[0m\u001b[0;34m:\u001b[0m\u001b[0;34m\u001b[0m\u001b[0;34m\u001b[0m\u001b[0m\n\u001b[0m\u001b[1;32m     21\u001b[0m             \u001b[0msindx\u001b[0m\u001b[0;34m[\u001b[0m\u001b[0mncnt\u001b[0m\u001b[0;34m,\u001b[0m\u001b[0mi_source\u001b[0m\u001b[0;34m]\u001b[0m\u001b[0;34m=\u001b[0m\u001b[0mmath\u001b[0m\u001b[0;34m.\u001b[0m\u001b[0mlog10\u001b[0m\u001b[0;34m(\u001b[0m\u001b[0;34m(\u001b[0m\u001b[0;36m10e+04\u001b[0m\u001b[0;34m)\u001b[0m\u001b[0;34m*\u001b[0m\u001b[0mnscindex\u001b[0m\u001b[0;34m[\u001b[0m\u001b[0mt\u001b[0m\u001b[0;34m]\u001b[0m\u001b[0;34m)\u001b[0m\u001b[0;34m\u001b[0m\u001b[0;34m\u001b[0m\u001b[0m\n\u001b[1;32m     22\u001b[0m             \u001b[0mfry2\u001b[0m\u001b[0;34m[\u001b[0m\u001b[0mncnt\u001b[0m\u001b[0;34m,\u001b[0m\u001b[0mi_source\u001b[0m\u001b[0;34m]\u001b[0m\u001b[0;34m=\u001b[0m\u001b[0mfry\u001b[0m\u001b[0;34m[\u001b[0m\u001b[0mt\u001b[0m\u001b[0;34m]\u001b[0m\u001b[0;34m\u001b[0m\u001b[0;34m\u001b[0m\u001b[0m\n",
      "\u001b[0;31mNameError\u001b[0m: name 'source' is not defined"
     ]
    }
   ],
   "source": [
    "#Assigning observations for each source into an array\n",
    "import numpy as np\n",
    "n_source=27\n",
    "import math\n",
    "sindx=np.zeros((100000, n_source))\n",
    "fry2=np.zeros((100000, n_source))\n",
    "DIS2=np.zeros((100000, n_source))\n",
    "HLA2=np.zeros((100000, n_source))\n",
    "HLO2=np.zeros((100000, n_source))\n",
    "GLA2=np.zeros((100000, n_source))\n",
    "GLO2=np.zeros((100000, n_source))\n",
    "CARR2=np.zeros((100000, n_source))\n",
    "V2=np.zeros((100000, n_source))\n",
    "ERR2=np.zeros((100000, n_source))\n",
    "ncnt_arr=np.zeros(n_source)\n",
    "\n",
    "for i_source in range(0,n_source-1):\n",
    "    ncnt=0\n",
    "    for t in range(0,n_source-1):\n",
    "        if ((nsou[t] == (source[i_source])) and (nscindex[t]!=0)):\n",
    "            sindx[ncnt,i_source]=math.log10((10e+04)*nscindex[t])\n",
    "            fry2[ncnt,i_source]=fry[t]\n",
    "            DIS2[ncnt,i_source]=nDIS[t]\n",
    "            HLA2[ncnt,i_source]=nHLA[t]\n",
    "            HLO2[ncnt,i_source]=nHLO[t]\n",
    "            GLA2[ncnt,i_source]=nGLA[t]\n",
    "            GLO2[ncnt,i_source]=nGLO[t]\n",
    "            CARR2[ncnt,i_source]=nCARR[t]\n",
    "            V2[ncnt,i_source]=nV[t]\n",
    "            ERR2[ncnt,i_source]=nERR[t]\n",
    "            ncnt=ncnt+1\n",
    "            sindx=sindx[0:max(ncnt_arr)-1,:]\n",
    "            fry2=fry2[0:max(ncnt_arr)-1,:]\n",
    "            DIS2=DIS2[0:max(ncnt_arr)-1,:]\n",
    "            HLA2=HLA2[0:max(ncnt_arr)-1,:]\n",
    "            HLO2=HLO2[0:max(ncnt_arr)-1,:]\n",
    "            GLA2=GLA2[0:max(ncnt_arr)-1,:]\n",
    "            GLO2=GLO2[0:max(ncnt_arr)-1,:]\n",
    "            CARR2=CARR2[0:max(ncnt_arr)-1,:]\n",
    "            V2=V2[0:max(ncnt_arr)-1,:]\n",
    "            ERR2=ERR2[0:max(ncnt_arr)-1,:]"
   ]
  },
  {
   "cell_type": "code",
   "execution_count": 65,
   "metadata": {},
   "outputs": [
    {
     "ename": "NameError",
     "evalue": "name 'n_sources' is not defined",
     "output_type": "error",
     "traceback": [
      "\u001b[0;31m---------------------------------------------------------------------------\u001b[0m",
      "\u001b[0;31mNameError\u001b[0m                                 Traceback (most recent call last)",
      "\u001b[0;32m<ipython-input-65-406b13e4a6e2>\u001b[0m in \u001b[0;36m<module>\u001b[0;34m\u001b[0m\n\u001b[1;32m      9\u001b[0m \u001b[0my4\u001b[0m\u001b[0;34m=\u001b[0m\u001b[0mnp\u001b[0m\u001b[0;34m.\u001b[0m\u001b[0mzeros\u001b[0m\u001b[0;34m(\u001b[0m\u001b[0mn_source\u001b[0m\u001b[0;34m)\u001b[0m\u001b[0;34m\u001b[0m\u001b[0;34m\u001b[0m\u001b[0m\n\u001b[1;32m     10\u001b[0m \u001b[0;31m#arrays for plottinh annual means\u001b[0m\u001b[0;34m\u001b[0m\u001b[0;34m\u001b[0m\u001b[0;34m\u001b[0m\u001b[0m\n\u001b[0;32m---> 11\u001b[0;31m \u001b[0mdata1\u001b[0m\u001b[0;34m=\u001b[0m\u001b[0mnp\u001b[0m\u001b[0;34m.\u001b[0m\u001b[0mzeros\u001b[0m\u001b[0;34m(\u001b[0m\u001b[0;34m(\u001b[0m\u001b[0;36m33\u001b[0m\u001b[0;34m,\u001b[0m \u001b[0mn_sources\u001b[0m\u001b[0;34m)\u001b[0m\u001b[0;34m)\u001b[0m\u001b[0;34m\u001b[0m\u001b[0;34m\u001b[0m\u001b[0m\n\u001b[0m\u001b[1;32m     12\u001b[0m \u001b[0mdata2\u001b[0m\u001b[0;34m=\u001b[0m\u001b[0mnp\u001b[0m\u001b[0;34m.\u001b[0m\u001b[0mzeros\u001b[0m\u001b[0;34m(\u001b[0m\u001b[0;34m(\u001b[0m\u001b[0;36m33\u001b[0m\u001b[0;34m,\u001b[0m \u001b[0mn_sources\u001b[0m\u001b[0;34m)\u001b[0m\u001b[0;34m)\u001b[0m\u001b[0;34m\u001b[0m\u001b[0;34m\u001b[0m\u001b[0m\n\u001b[1;32m     13\u001b[0m \u001b[0mndata_arr\u001b[0m\u001b[0;34m=\u001b[0m\u001b[0mnp\u001b[0m\u001b[0;34m.\u001b[0m\u001b[0mzeros\u001b[0m\u001b[0;34m(\u001b[0m\u001b[0mn_sources\u001b[0m\u001b[0;34m)\u001b[0m\u001b[0;34m\u001b[0m\u001b[0;34m\u001b[0m\u001b[0m\n",
      "\u001b[0;31mNameError\u001b[0m: name 'n_sources' is not defined"
     ]
    }
   ],
   "source": [
    "#arrays for max mean and rms of scindex computation\n",
    "simax=np.zeros(n_source)\n",
    "simean=np.zeros(n_source)\n",
    "si_sigma=np.zeros(n_source)\n",
    "#arrays for sigma cutoff\n",
    "y1=np.zeros(n_source)\n",
    "y2=np.zeros(n_source)\n",
    "y3=np.zeros(n_source)\n",
    "y4=np.zeros(n_source)\n",
    "#arrays for plottinh annual means\n",
    "data1=np.zeros((33, n_sources))\n",
    "data2=np.zeros((33, n_sources))\n",
    "ndata_arr=np.zeros(n_sources)"
   ]
  },
  {
   "cell_type": "code",
   "execution_count": null,
   "metadata": {},
   "outputs": [],
   "source": []
  },
  {
   "cell_type": "code",
   "execution_count": null,
   "metadata": {},
   "outputs": [],
   "source": []
  }
 ],
 "metadata": {
  "kernelspec": {
   "display_name": "Python 3",
   "language": "python",
   "name": "python3"
  },
  "language_info": {
   "codemirror_mode": {
    "name": "ipython",
    "version": 3
   },
   "file_extension": ".py",
   "mimetype": "text/x-python",
   "name": "python",
   "nbconvert_exporter": "python",
   "pygments_lexer": "ipython3",
   "version": "3.7.3"
  }
 },
 "nbformat": 4,
 "nbformat_minor": 2
}
